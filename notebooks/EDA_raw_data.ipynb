{
 "cells": [
  {
   "cell_type": "code",
   "execution_count": 2,
   "metadata": {},
   "outputs": [],
   "source": [
    "import os\n",
    "from dotenv import load_dotenv\n",
    "from sqlalchemy import create_engine\n",
    "import pandas as pd\n",
    "import matplotlib.pyplot as plt"
   ]
  },
  {
   "cell_type": "code",
   "execution_count": 3,
   "metadata": {},
   "outputs": [
    {
     "data": {
      "text/html": [
       "<div>\n",
       "<style scoped>\n",
       "    .dataframe tbody tr th:only-of-type {\n",
       "        vertical-align: middle;\n",
       "    }\n",
       "\n",
       "    .dataframe tbody tr th {\n",
       "        vertical-align: top;\n",
       "    }\n",
       "\n",
       "    .dataframe thead th {\n",
       "        text-align: right;\n",
       "    }\n",
       "</style>\n",
       "<table border=\"1\" class=\"dataframe\">\n",
       "  <thead>\n",
       "    <tr style=\"text-align: right;\">\n",
       "      <th></th>\n",
       "      <th>id_paciente</th>\n",
       "      <th>sexo</th>\n",
       "      <th>obito</th>\n",
       "      <th>bairro</th>\n",
       "      <th>raca_cor</th>\n",
       "      <th>ocupacao</th>\n",
       "      <th>religiao</th>\n",
       "      <th>luz_eletrica</th>\n",
       "      <th>data_cadastro</th>\n",
       "      <th>escolaridade</th>\n",
       "      <th>...</th>\n",
       "      <th>familia_beneficiaria_auxilio_brasil</th>\n",
       "      <th>crianca_matriculada_creche_pre_escola</th>\n",
       "      <th>altura</th>\n",
       "      <th>peso</th>\n",
       "      <th>pressao_sistolica</th>\n",
       "      <th>pressao_diastolica</th>\n",
       "      <th>n_atendimentos_atencao_primaria</th>\n",
       "      <th>n_atendimentos_hospital</th>\n",
       "      <th>updated_at</th>\n",
       "      <th>tipo</th>\n",
       "    </tr>\n",
       "  </thead>\n",
       "  <tbody>\n",
       "    <tr>\n",
       "      <th>0</th>\n",
       "      <td>cd6daa6e-038d-4952-af29-579e62e07f97</td>\n",
       "      <td>male</td>\n",
       "      <td>0</td>\n",
       "      <td>Parada de Lucas</td>\n",
       "      <td>Branca</td>\n",
       "      <td>Não se aplica</td>\n",
       "      <td>Sem religião</td>\n",
       "      <td>True</td>\n",
       "      <td>2021-06-24 00:00:00.000</td>\n",
       "      <td>Fundamental Incompleto</td>\n",
       "      <td>...</td>\n",
       "      <td>0</td>\n",
       "      <td>0</td>\n",
       "      <td>172.0</td>\n",
       "      <td>52.5</td>\n",
       "      <td>110.0</td>\n",
       "      <td>70.0</td>\n",
       "      <td>8</td>\n",
       "      <td>9</td>\n",
       "      <td>2021-06-01 00:00:00.000</td>\n",
       "      <td>historico</td>\n",
       "    </tr>\n",
       "    <tr>\n",
       "      <th>1</th>\n",
       "      <td>ad6cecb2-3a44-49ab-b2f3-6f9ffc2e2ec7</td>\n",
       "      <td>male</td>\n",
       "      <td>0</td>\n",
       "      <td>Cidade Nova</td>\n",
       "      <td>Parda</td>\n",
       "      <td>Assistente Administrativo</td>\n",
       "      <td>Evangélica</td>\n",
       "      <td>1</td>\n",
       "      <td>2021-01-07 00:00:00.000</td>\n",
       "      <td>Médio Incompleto</td>\n",
       "      <td>...</td>\n",
       "      <td>1</td>\n",
       "      <td>0</td>\n",
       "      <td>158.0</td>\n",
       "      <td>76.2</td>\n",
       "      <td>140.0</td>\n",
       "      <td>80.0</td>\n",
       "      <td>0</td>\n",
       "      <td>6</td>\n",
       "      <td>2020-06-25 00:00:00.000</td>\n",
       "      <td>historico</td>\n",
       "    </tr>\n",
       "    <tr>\n",
       "      <th>2</th>\n",
       "      <td>54e834e7-e722-4daa-8909-cf917a1247e6</td>\n",
       "      <td>male</td>\n",
       "      <td>0</td>\n",
       "      <td>Santa cruz</td>\n",
       "      <td>Parda</td>\n",
       "      <td>Não se aplica</td>\n",
       "      <td>Católica</td>\n",
       "      <td>1</td>\n",
       "      <td>2021-02-18 00:00:00.000</td>\n",
       "      <td>Fundamental Completo</td>\n",
       "      <td>...</td>\n",
       "      <td>0</td>\n",
       "      <td>0</td>\n",
       "      <td>53.0</td>\n",
       "      <td>82.5</td>\n",
       "      <td>180.0</td>\n",
       "      <td>60.0</td>\n",
       "      <td>5</td>\n",
       "      <td>2</td>\n",
       "      <td>2020-03-02 00:00:00.000</td>\n",
       "      <td>historico</td>\n",
       "    </tr>\n",
       "    <tr>\n",
       "      <th>3</th>\n",
       "      <td>c6a71e5e-0933-48d1-9d5a-8f448dc37f71</td>\n",
       "      <td>female</td>\n",
       "      <td>False</td>\n",
       "      <td>Bangu</td>\n",
       "      <td>Branca</td>\n",
       "      <td>Representante Comercial Autônomo</td>\n",
       "      <td>Sem religião</td>\n",
       "      <td>1</td>\n",
       "      <td>2022-03-09 10:40:37</td>\n",
       "      <td>Alfabetizado</td>\n",
       "      <td>...</td>\n",
       "      <td>1</td>\n",
       "      <td>1</td>\n",
       "      <td>164.0</td>\n",
       "      <td>90.6</td>\n",
       "      <td>120.0</td>\n",
       "      <td>70.0</td>\n",
       "      <td>0</td>\n",
       "      <td>27</td>\n",
       "      <td>2021-11-05 11:08:17.477</td>\n",
       "      <td>rotineiro</td>\n",
       "    </tr>\n",
       "    <tr>\n",
       "      <th>4</th>\n",
       "      <td>d5262a3c-e5d3-4195-a46b-0acd2533e1d6</td>\n",
       "      <td>male</td>\n",
       "      <td>0</td>\n",
       "      <td>Santíssimo</td>\n",
       "      <td>Branca</td>\n",
       "      <td>Técnico Eletricista</td>\n",
       "      <td>Outra</td>\n",
       "      <td>True</td>\n",
       "      <td>2022-12-13 18:30:45</td>\n",
       "      <td>Médio Completo</td>\n",
       "      <td>...</td>\n",
       "      <td>0</td>\n",
       "      <td>0</td>\n",
       "      <td>154.0</td>\n",
       "      <td>8.5</td>\n",
       "      <td>180.0</td>\n",
       "      <td>80.0</td>\n",
       "      <td>25</td>\n",
       "      <td>0</td>\n",
       "      <td>2020-11-11 00:00:00.000</td>\n",
       "      <td>historico</td>\n",
       "    </tr>\n",
       "    <tr>\n",
       "      <th>...</th>\n",
       "      <td>...</td>\n",
       "      <td>...</td>\n",
       "      <td>...</td>\n",
       "      <td>...</td>\n",
       "      <td>...</td>\n",
       "      <td>...</td>\n",
       "      <td>...</td>\n",
       "      <td>...</td>\n",
       "      <td>...</td>\n",
       "      <td>...</td>\n",
       "      <td>...</td>\n",
       "      <td>...</td>\n",
       "      <td>...</td>\n",
       "      <td>...</td>\n",
       "      <td>...</td>\n",
       "      <td>...</td>\n",
       "      <td>...</td>\n",
       "      <td>...</td>\n",
       "      <td>...</td>\n",
       "      <td>...</td>\n",
       "      <td>...</td>\n",
       "    </tr>\n",
       "    <tr>\n",
       "      <th>99995</th>\n",
       "      <td>9aa08b9f-44f3-417d-bd1d-66288d7beaae</td>\n",
       "      <td>female</td>\n",
       "      <td>False</td>\n",
       "      <td>Rio Comprido</td>\n",
       "      <td>Parda</td>\n",
       "      <td>Técnico Mecânico</td>\n",
       "      <td>Outra</td>\n",
       "      <td>1</td>\n",
       "      <td>2021-11-21 17:17:42</td>\n",
       "      <td>Alfabetizado</td>\n",
       "      <td>...</td>\n",
       "      <td>0</td>\n",
       "      <td>False</td>\n",
       "      <td>61.0</td>\n",
       "      <td>117.0</td>\n",
       "      <td>140.0</td>\n",
       "      <td>69.0</td>\n",
       "      <td>0</td>\n",
       "      <td>4</td>\n",
       "      <td>2022-04-27 14:54:01.593</td>\n",
       "      <td>historico</td>\n",
       "    </tr>\n",
       "    <tr>\n",
       "      <th>99996</th>\n",
       "      <td>1b1f7444-8959-4210-b5de-cdfb9b62eab8</td>\n",
       "      <td>female</td>\n",
       "      <td>0</td>\n",
       "      <td>Realengo</td>\n",
       "      <td>Branca</td>\n",
       "      <td>Não se aplica</td>\n",
       "      <td>Outra</td>\n",
       "      <td>1</td>\n",
       "      <td>2021-07-28 11:17:00</td>\n",
       "      <td>Fundamental Incompleto</td>\n",
       "      <td>...</td>\n",
       "      <td>False</td>\n",
       "      <td>0</td>\n",
       "      <td>92.0</td>\n",
       "      <td>82.0</td>\n",
       "      <td>140.0</td>\n",
       "      <td>90.0</td>\n",
       "      <td>0</td>\n",
       "      <td>28</td>\n",
       "      <td>2020-04-15 00:00:00.000</td>\n",
       "      <td>historico</td>\n",
       "    </tr>\n",
       "    <tr>\n",
       "      <th>99997</th>\n",
       "      <td>2c1d1127-0575-4df1-a879-12734f7cbf39</td>\n",
       "      <td>female</td>\n",
       "      <td>0</td>\n",
       "      <td>Amendoeira</td>\n",
       "      <td>Parda</td>\n",
       "      <td>Não se aplica</td>\n",
       "      <td>Católica</td>\n",
       "      <td>True</td>\n",
       "      <td>2022-05-18 00:00:00.000</td>\n",
       "      <td>Fundamental Incompleto</td>\n",
       "      <td>...</td>\n",
       "      <td>False</td>\n",
       "      <td>0</td>\n",
       "      <td>51.0</td>\n",
       "      <td>69.0</td>\n",
       "      <td>110.0</td>\n",
       "      <td>80.0</td>\n",
       "      <td>1</td>\n",
       "      <td>0</td>\n",
       "      <td>2022-05-18 09:24:57.333</td>\n",
       "      <td>historico</td>\n",
       "    </tr>\n",
       "    <tr>\n",
       "      <th>99998</th>\n",
       "      <td>6a28a1d0-9d1f-4d66-8f28-759083b91f59</td>\n",
       "      <td>female</td>\n",
       "      <td>0</td>\n",
       "      <td>Santa cruz</td>\n",
       "      <td>Branca</td>\n",
       "      <td>Vendedor Em Domicílio</td>\n",
       "      <td>Sem religião</td>\n",
       "      <td>1</td>\n",
       "      <td>2022-05-11 11:11:51.667</td>\n",
       "      <td>Médio Completo</td>\n",
       "      <td>...</td>\n",
       "      <td>False</td>\n",
       "      <td>False</td>\n",
       "      <td>163.0</td>\n",
       "      <td>91.0</td>\n",
       "      <td>150.0</td>\n",
       "      <td>80.0</td>\n",
       "      <td>0</td>\n",
       "      <td>0</td>\n",
       "      <td>2020-07-14 00:00:00.000</td>\n",
       "      <td>historico</td>\n",
       "    </tr>\n",
       "    <tr>\n",
       "      <th>99999</th>\n",
       "      <td>d582b5c6-06c6-4741-9fcc-ccbc22d43413</td>\n",
       "      <td>female</td>\n",
       "      <td>0</td>\n",
       "      <td>Campo Grande</td>\n",
       "      <td>Parda</td>\n",
       "      <td>Não se aplica</td>\n",
       "      <td>Católica</td>\n",
       "      <td>1</td>\n",
       "      <td>2021-12-15 12:01:59.133</td>\n",
       "      <td>Médio Completo</td>\n",
       "      <td>...</td>\n",
       "      <td>False</td>\n",
       "      <td>1</td>\n",
       "      <td>164.0</td>\n",
       "      <td>88.8</td>\n",
       "      <td>130.0</td>\n",
       "      <td>80.0</td>\n",
       "      <td>7</td>\n",
       "      <td>10</td>\n",
       "      <td>2020-10-08 00:00:00.000</td>\n",
       "      <td>historico</td>\n",
       "    </tr>\n",
       "  </tbody>\n",
       "</table>\n",
       "<p>100000 rows × 35 columns</p>\n",
       "</div>"
      ],
      "text/plain": [
       "                                id_paciente    sexo  obito           bairro  \\\n",
       "0      cd6daa6e-038d-4952-af29-579e62e07f97    male      0  Parada de Lucas   \n",
       "1      ad6cecb2-3a44-49ab-b2f3-6f9ffc2e2ec7    male      0      Cidade Nova   \n",
       "2      54e834e7-e722-4daa-8909-cf917a1247e6    male      0       Santa cruz   \n",
       "3      c6a71e5e-0933-48d1-9d5a-8f448dc37f71  female  False            Bangu   \n",
       "4      d5262a3c-e5d3-4195-a46b-0acd2533e1d6    male      0       Santíssimo   \n",
       "...                                     ...     ...    ...              ...   \n",
       "99995  9aa08b9f-44f3-417d-bd1d-66288d7beaae  female  False     Rio Comprido   \n",
       "99996  1b1f7444-8959-4210-b5de-cdfb9b62eab8  female      0         Realengo   \n",
       "99997  2c1d1127-0575-4df1-a879-12734f7cbf39  female      0       Amendoeira   \n",
       "99998  6a28a1d0-9d1f-4d66-8f28-759083b91f59  female      0       Santa cruz   \n",
       "99999  d582b5c6-06c6-4741-9fcc-ccbc22d43413  female      0     Campo Grande   \n",
       "\n",
       "      raca_cor                          ocupacao      religiao luz_eletrica  \\\n",
       "0       Branca                     Não se aplica  Sem religião         True   \n",
       "1        Parda         Assistente Administrativo    Evangélica            1   \n",
       "2        Parda                     Não se aplica      Católica            1   \n",
       "3       Branca  Representante Comercial Autônomo  Sem religião            1   \n",
       "4       Branca               Técnico Eletricista         Outra         True   \n",
       "...        ...                               ...           ...          ...   \n",
       "99995    Parda                  Técnico Mecânico         Outra            1   \n",
       "99996   Branca                     Não se aplica         Outra            1   \n",
       "99997    Parda                     Não se aplica      Católica         True   \n",
       "99998   Branca             Vendedor Em Domicílio  Sem religião            1   \n",
       "99999    Parda                     Não se aplica      Católica            1   \n",
       "\n",
       "                 data_cadastro            escolaridade  ...  \\\n",
       "0      2021-06-24 00:00:00.000  Fundamental Incompleto  ...   \n",
       "1      2021-01-07 00:00:00.000        Médio Incompleto  ...   \n",
       "2      2021-02-18 00:00:00.000    Fundamental Completo  ...   \n",
       "3          2022-03-09 10:40:37            Alfabetizado  ...   \n",
       "4          2022-12-13 18:30:45          Médio Completo  ...   \n",
       "...                        ...                     ...  ...   \n",
       "99995      2021-11-21 17:17:42            Alfabetizado  ...   \n",
       "99996      2021-07-28 11:17:00  Fundamental Incompleto  ...   \n",
       "99997  2022-05-18 00:00:00.000  Fundamental Incompleto  ...   \n",
       "99998  2022-05-11 11:11:51.667          Médio Completo  ...   \n",
       "99999  2021-12-15 12:01:59.133          Médio Completo  ...   \n",
       "\n",
       "      familia_beneficiaria_auxilio_brasil  \\\n",
       "0                                       0   \n",
       "1                                       1   \n",
       "2                                       0   \n",
       "3                                       1   \n",
       "4                                       0   \n",
       "...                                   ...   \n",
       "99995                                   0   \n",
       "99996                               False   \n",
       "99997                               False   \n",
       "99998                               False   \n",
       "99999                               False   \n",
       "\n",
       "      crianca_matriculada_creche_pre_escola altura   peso  pressao_sistolica  \\\n",
       "0                                         0  172.0   52.5              110.0   \n",
       "1                                         0  158.0   76.2              140.0   \n",
       "2                                         0   53.0   82.5              180.0   \n",
       "3                                         1  164.0   90.6              120.0   \n",
       "4                                         0  154.0    8.5              180.0   \n",
       "...                                     ...    ...    ...                ...   \n",
       "99995                                 False   61.0  117.0              140.0   \n",
       "99996                                     0   92.0   82.0              140.0   \n",
       "99997                                     0   51.0   69.0              110.0   \n",
       "99998                                 False  163.0   91.0              150.0   \n",
       "99999                                     1  164.0   88.8              130.0   \n",
       "\n",
       "      pressao_diastolica n_atendimentos_atencao_primaria  \\\n",
       "0                   70.0                               8   \n",
       "1                   80.0                               0   \n",
       "2                   60.0                               5   \n",
       "3                   70.0                               0   \n",
       "4                   80.0                              25   \n",
       "...                  ...                             ...   \n",
       "99995               69.0                               0   \n",
       "99996               90.0                               0   \n",
       "99997               80.0                               1   \n",
       "99998               80.0                               0   \n",
       "99999               80.0                               7   \n",
       "\n",
       "      n_atendimentos_hospital               updated_at       tipo  \n",
       "0                           9  2021-06-01 00:00:00.000  historico  \n",
       "1                           6  2020-06-25 00:00:00.000  historico  \n",
       "2                           2  2020-03-02 00:00:00.000  historico  \n",
       "3                          27  2021-11-05 11:08:17.477  rotineiro  \n",
       "4                           0  2020-11-11 00:00:00.000  historico  \n",
       "...                       ...                      ...        ...  \n",
       "99995                       4  2022-04-27 14:54:01.593  historico  \n",
       "99996                      28  2020-04-15 00:00:00.000  historico  \n",
       "99997                       0  2022-05-18 09:24:57.333  historico  \n",
       "99998                       0  2020-07-14 00:00:00.000  historico  \n",
       "99999                      10  2020-10-08 00:00:00.000  historico  \n",
       "\n",
       "[100000 rows x 35 columns]"
      ]
     },
     "execution_count": 3,
     "metadata": {},
     "output_type": "execute_result"
    }
   ],
   "source": [
    "df_raw = pd.read_csv('../raw/dados_ficha_a_desafio.csv')\n",
    "df_raw"
   ]
  },
  {
   "cell_type": "code",
   "execution_count": 4,
   "metadata": {},
   "outputs": [
    {
     "name": "stdout",
     "output_type": "stream",
     "text": [
      "<class 'pandas.core.frame.DataFrame'>\n",
      "RangeIndex: 100000 entries, 0 to 99999\n",
      "Data columns (total 35 columns):\n",
      " #   Column                                 Non-Null Count   Dtype  \n",
      "---  ------                                 --------------   -----  \n",
      " 0   id_paciente                            100000 non-null  object \n",
      " 1   sexo                                   100000 non-null  object \n",
      " 2   obito                                  100000 non-null  object \n",
      " 3   bairro                                 100000 non-null  object \n",
      " 4   raca_cor                               100000 non-null  object \n",
      " 5   ocupacao                               100000 non-null  object \n",
      " 6   religiao                               100000 non-null  object \n",
      " 7   luz_eletrica                           100000 non-null  object \n",
      " 8   data_cadastro                          100000 non-null  object \n",
      " 9   escolaridade                           100000 non-null  object \n",
      " 10  nacionalidade                          100000 non-null  object \n",
      " 11  renda_familiar                         100000 non-null  object \n",
      " 12  data_nascimento                        100000 non-null  object \n",
      " 13  em_situacao_de_rua                     100000 non-null  object \n",
      " 14  frequenta_escola                       100000 non-null  int64  \n",
      " 15  meios_transporte                       100000 non-null  object \n",
      " 16  doencas_condicoes                      100000 non-null  object \n",
      " 17  identidade_genero                      99048 non-null   object \n",
      " 18  meios_comunicacao                      100000 non-null  object \n",
      " 19  orientacao_sexual                      100000 non-null  object \n",
      " 20  possui_plano_saude                     100000 non-null  object \n",
      " 21  em_caso_doenca_procura                 100000 non-null  object \n",
      " 22  situacao_profissional                  100000 non-null  object \n",
      " 23  vulnerabilidade_social                 100000 non-null  object \n",
      " 24  data_atualizacao_cadastro              100000 non-null  object \n",
      " 25  familia_beneficiaria_auxilio_brasil    100000 non-null  object \n",
      " 26  crianca_matriculada_creche_pre_escola  100000 non-null  object \n",
      " 27  altura                                 99975 non-null   float64\n",
      " 28  peso                                   99816 non-null   float64\n",
      " 29  pressao_sistolica                      99960 non-null   float64\n",
      " 30  pressao_diastolica                     99983 non-null   float64\n",
      " 31  n_atendimentos_atencao_primaria        100000 non-null  int64  \n",
      " 32  n_atendimentos_hospital                100000 non-null  int64  \n",
      " 33  updated_at                             100000 non-null  object \n",
      " 34  tipo                                   100000 non-null  object \n",
      "dtypes: float64(4), int64(3), object(28)\n",
      "memory usage: 26.7+ MB\n"
     ]
    }
   ],
   "source": [
    "df_raw.info()"
   ]
  },
  {
   "cell_type": "code",
   "execution_count": 5,
   "metadata": {},
   "outputs": [
    {
     "data": {
      "text/plain": [
       "Index(['id_paciente', 'sexo', 'obito', 'bairro', 'raca_cor', 'ocupacao',\n",
       "       'religiao', 'luz_eletrica', 'data_cadastro', 'escolaridade',\n",
       "       'nacionalidade', 'renda_familiar', 'data_nascimento',\n",
       "       'em_situacao_de_rua', 'frequenta_escola', 'meios_transporte',\n",
       "       'doencas_condicoes', 'identidade_genero', 'meios_comunicacao',\n",
       "       'orientacao_sexual', 'possui_plano_saude', 'em_caso_doenca_procura',\n",
       "       'situacao_profissional', 'vulnerabilidade_social',\n",
       "       'data_atualizacao_cadastro', 'familia_beneficiaria_auxilio_brasil',\n",
       "       'crianca_matriculada_creche_pre_escola', 'altura', 'peso',\n",
       "       'pressao_sistolica', 'pressao_diastolica',\n",
       "       'n_atendimentos_atencao_primaria', 'n_atendimentos_hospital',\n",
       "       'updated_at', 'tipo'],\n",
       "      dtype='object')"
      ]
     },
     "execution_count": 5,
     "metadata": {},
     "output_type": "execute_result"
    }
   ],
   "source": [
    "df_raw.columns"
   ]
  },
  {
   "cell_type": "code",
   "execution_count": 6,
   "metadata": {},
   "outputs": [
    {
     "data": {
      "text/html": [
       "<div>\n",
       "<style scoped>\n",
       "    .dataframe tbody tr th:only-of-type {\n",
       "        vertical-align: middle;\n",
       "    }\n",
       "\n",
       "    .dataframe tbody tr th {\n",
       "        vertical-align: top;\n",
       "    }\n",
       "\n",
       "    .dataframe thead th {\n",
       "        text-align: right;\n",
       "    }\n",
       "</style>\n",
       "<table border=\"1\" class=\"dataframe\">\n",
       "  <thead>\n",
       "    <tr style=\"text-align: right;\">\n",
       "      <th></th>\n",
       "      <th>frequenta_escola</th>\n",
       "      <th>altura</th>\n",
       "      <th>peso</th>\n",
       "      <th>pressao_sistolica</th>\n",
       "      <th>pressao_diastolica</th>\n",
       "      <th>n_atendimentos_atencao_primaria</th>\n",
       "      <th>n_atendimentos_hospital</th>\n",
       "    </tr>\n",
       "  </thead>\n",
       "  <tbody>\n",
       "    <tr>\n",
       "      <th>count</th>\n",
       "      <td>100000.000000</td>\n",
       "      <td>99975.000000</td>\n",
       "      <td>99816.000000</td>\n",
       "      <td>99960.000000</td>\n",
       "      <td>99983.000000</td>\n",
       "      <td>100000.000000</td>\n",
       "      <td>100000.000000</td>\n",
       "    </tr>\n",
       "    <tr>\n",
       "      <th>mean</th>\n",
       "      <td>0.158190</td>\n",
       "      <td>142.693589</td>\n",
       "      <td>63.801629</td>\n",
       "      <td>129.544068</td>\n",
       "      <td>79.378207</td>\n",
       "      <td>5.542710</td>\n",
       "      <td>7.312930</td>\n",
       "    </tr>\n",
       "    <tr>\n",
       "      <th>std</th>\n",
       "      <td>0.364921</td>\n",
       "      <td>38.659345</td>\n",
       "      <td>35.594173</td>\n",
       "      <td>21.406429</td>\n",
       "      <td>21.062140</td>\n",
       "      <td>5.204464</td>\n",
       "      <td>9.801987</td>\n",
       "    </tr>\n",
       "    <tr>\n",
       "      <th>min</th>\n",
       "      <td>0.000000</td>\n",
       "      <td>0.000000</td>\n",
       "      <td>0.000000</td>\n",
       "      <td>0.000000</td>\n",
       "      <td>0.000000</td>\n",
       "      <td>0.000000</td>\n",
       "      <td>0.000000</td>\n",
       "    </tr>\n",
       "    <tr>\n",
       "      <th>25%</th>\n",
       "      <td>0.000000</td>\n",
       "      <td>145.000000</td>\n",
       "      <td>50.700000</td>\n",
       "      <td>120.000000</td>\n",
       "      <td>70.000000</td>\n",
       "      <td>0.000000</td>\n",
       "      <td>0.000000</td>\n",
       "    </tr>\n",
       "    <tr>\n",
       "      <th>50%</th>\n",
       "      <td>0.000000</td>\n",
       "      <td>158.000000</td>\n",
       "      <td>67.900000</td>\n",
       "      <td>130.000000</td>\n",
       "      <td>80.000000</td>\n",
       "      <td>5.000000</td>\n",
       "      <td>2.000000</td>\n",
       "    </tr>\n",
       "    <tr>\n",
       "      <th>75%</th>\n",
       "      <td>0.000000</td>\n",
       "      <td>165.000000</td>\n",
       "      <td>82.000000</td>\n",
       "      <td>140.000000</td>\n",
       "      <td>87.000000</td>\n",
       "      <td>9.000000</td>\n",
       "      <td>13.000000</td>\n",
       "    </tr>\n",
       "    <tr>\n",
       "      <th>max</th>\n",
       "      <td>1.000000</td>\n",
       "      <td>810.000000</td>\n",
       "      <td>998.000000</td>\n",
       "      <td>900.000000</td>\n",
       "      <td>921.000000</td>\n",
       "      <td>32.000000</td>\n",
       "      <td>77.000000</td>\n",
       "    </tr>\n",
       "  </tbody>\n",
       "</table>\n",
       "</div>"
      ],
      "text/plain": [
       "       frequenta_escola        altura          peso  pressao_sistolica  \\\n",
       "count     100000.000000  99975.000000  99816.000000       99960.000000   \n",
       "mean           0.158190    142.693589     63.801629         129.544068   \n",
       "std            0.364921     38.659345     35.594173          21.406429   \n",
       "min            0.000000      0.000000      0.000000           0.000000   \n",
       "25%            0.000000    145.000000     50.700000         120.000000   \n",
       "50%            0.000000    158.000000     67.900000         130.000000   \n",
       "75%            0.000000    165.000000     82.000000         140.000000   \n",
       "max            1.000000    810.000000    998.000000         900.000000   \n",
       "\n",
       "       pressao_diastolica  n_atendimentos_atencao_primaria  \\\n",
       "count        99983.000000                    100000.000000   \n",
       "mean            79.378207                         5.542710   \n",
       "std             21.062140                         5.204464   \n",
       "min              0.000000                         0.000000   \n",
       "25%             70.000000                         0.000000   \n",
       "50%             80.000000                         5.000000   \n",
       "75%             87.000000                         9.000000   \n",
       "max            921.000000                        32.000000   \n",
       "\n",
       "       n_atendimentos_hospital  \n",
       "count            100000.000000  \n",
       "mean                  7.312930  \n",
       "std                   9.801987  \n",
       "min                   0.000000  \n",
       "25%                   0.000000  \n",
       "50%                   2.000000  \n",
       "75%                  13.000000  \n",
       "max                  77.000000  "
      ]
     },
     "execution_count": 6,
     "metadata": {},
     "output_type": "execute_result"
    }
   ],
   "source": [
    "df_raw.describe()"
   ]
  },
  {
   "cell_type": "code",
   "execution_count": 7,
   "metadata": {},
   "outputs": [
    {
     "data": {
      "text/plain": [
       "id_paciente                              99000\n",
       "sexo                                         2\n",
       "obito                                        4\n",
       "bairro                                     748\n",
       "raca_cor                                     6\n",
       "ocupacao                                  1355\n",
       "religiao                                    16\n",
       "luz_eletrica                                 4\n",
       "data_cadastro                            70374\n",
       "escolaridade                                11\n",
       "nacionalidade                                3\n",
       "renda_familiar                               9\n",
       "data_nascimento                          30401\n",
       "em_situacao_de_rua                           3\n",
       "frequenta_escola                             2\n",
       "meios_transporte                           655\n",
       "doencas_condicoes                          277\n",
       "identidade_genero                           10\n",
       "meios_comunicacao                          325\n",
       "orientacao_sexual                            4\n",
       "possui_plano_saude                           4\n",
       "em_caso_doenca_procura                     168\n",
       "situacao_profissional                       13\n",
       "vulnerabilidade_social                       4\n",
       "data_atualizacao_cadastro                85298\n",
       "familia_beneficiaria_auxilio_brasil          4\n",
       "crianca_matriculada_creche_pre_escola        4\n",
       "altura                                     620\n",
       "peso                                      4055\n",
       "pressao_sistolica                          202\n",
       "pressao_diastolica                         173\n",
       "n_atendimentos_atencao_primaria             32\n",
       "n_atendimentos_hospital                     66\n",
       "updated_at                               64266\n",
       "tipo                                         2\n",
       "dtype: int64"
      ]
     },
     "execution_count": 7,
     "metadata": {},
     "output_type": "execute_result"
    }
   ],
   "source": [
    "df_raw.nunique()"
   ]
  },
  {
   "cell_type": "markdown",
   "metadata": {},
   "source": [
    "Verificamos imediatamente que temos ids repetidos, colunas que deveriam ser booleanas com mais que 2 atributos e colunas com mais registros que o esperado."
   ]
  },
  {
   "cell_type": "code",
   "execution_count": 8,
   "metadata": {},
   "outputs": [
    {
     "data": {
      "text/plain": [
       "obito\n",
       "0        90956\n",
       "False     7605\n",
       "1         1294\n",
       "True       145\n",
       "Name: count, dtype: int64"
      ]
     },
     "execution_count": 8,
     "metadata": {},
     "output_type": "execute_result"
    }
   ],
   "source": [
    "df_raw[\"obito\"].value_counts()"
   ]
  },
  {
   "cell_type": "markdown",
   "metadata": {},
   "source": [
    "Aqui fica evidente o caso de uma coluna que deveria ter apenas duas possibilidades. Temos diversos casos semelhantes que devem ser tratados"
   ]
  },
  {
   "cell_type": "code",
   "execution_count": 9,
   "metadata": {},
   "outputs": [
    {
     "data": {
      "text/plain": [
       "raca_cor\n",
       "Parda       50856\n",
       "Branca      35113\n",
       "Preta       11373\n",
       "Amarela      2619\n",
       "Indígena       36\n",
       "Não             3\n",
       "Name: count, dtype: int64"
      ]
     },
     "execution_count": 9,
     "metadata": {},
     "output_type": "execute_result"
    }
   ],
   "source": [
    "df_raw[\"raca_cor\"].value_counts()"
   ]
  },
  {
   "cell_type": "code",
   "execution_count": 10,
   "metadata": {},
   "outputs": [
    {
     "data": {
      "text/plain": [
       "ocupacao\n",
       "Não se aplica                                              47000\n",
       "Vendedor de Comércio Varejista                              3091\n",
       "Empregado Doméstico Diarista                                2328\n",
       "Administrador                                               2236\n",
       "Vendedor Em Domicílio                                       1878\n",
       "                                                           ...  \n",
       "Operador de Prensa de Moldar Vidro                             1\n",
       "Redator de Textos Técnicos                                     1\n",
       "Tecnólogo em produção industrial                               1\n",
       "Produtor na Olericultura de Raízes, Bulbos e Tubérculos        1\n",
       "Técnico de Operações e Serviços Bancários - Câmbio             1\n",
       "Name: count, Length: 1355, dtype: int64"
      ]
     },
     "execution_count": 10,
     "metadata": {},
     "output_type": "execute_result"
    }
   ],
   "source": [
    "df_raw[\"ocupacao\"].value_counts()"
   ]
  },
  {
   "cell_type": "code",
   "execution_count": 11,
   "metadata": {},
   "outputs": [
    {
     "data": {
      "text/plain": [
       "religiao\n",
       "Sem religião                          35119\n",
       "Católica                              28348\n",
       "Outra                                 18714\n",
       "Evangélica                            14798\n",
       "Espírita                               1974\n",
       "Religião de matriz africana             731\n",
       "Não                                     174\n",
       "Budismo                                  81\n",
       "Judaísmo                                 32\n",
       "Islamismo                                 8\n",
       "Acomp. Cresc. e Desenv. da Criança        7\n",
       "Candomblé                                 6\n",
       "ESB ALMIRANTE                             5\n",
       "10 EAP 01                                 1\n",
       "ORQUIDEA                                  1\n",
       "Sim                                       1\n",
       "Name: count, dtype: int64"
      ]
     },
     "execution_count": 11,
     "metadata": {},
     "output_type": "execute_result"
    }
   ],
   "source": [
    "df_raw[\"religiao\"].value_counts()"
   ]
  },
  {
   "cell_type": "markdown",
   "metadata": {},
   "source": [
    "É possível perceber preenchimentos errados e dados que não fazem sentido, que devem ser tratados. \n",
    "Os casos \"Sim\" e \"Não\" também devem ser investigados mas podem ter uma explicação ao conversar com especialistas, fazendo sentidos mantê-los, inicialmente."
   ]
  },
  {
   "cell_type": "code",
   "execution_count": 12,
   "metadata": {},
   "outputs": [
    {
     "data": {
      "text/plain": [
       "escolaridade\n",
       "Médio Completo               32704\n",
       "Fundamental Incompleto       21826\n",
       "Fundamental Completo         14301\n",
       "Alfabetizado                  8519\n",
       "Não sabe ler/escrever         8231\n",
       "Médio Incompleto              6434\n",
       "Superior completo             5904\n",
       "Superior incompleto           1887\n",
       "Especialização/Residência       88\n",
       "Mestrado                        70\n",
       "Doutorado                       36\n",
       "Name: count, dtype: int64"
      ]
     },
     "execution_count": 12,
     "metadata": {},
     "output_type": "execute_result"
    }
   ],
   "source": [
    "df_raw[\"escolaridade\"].value_counts()"
   ]
  },
  {
   "cell_type": "code",
   "execution_count": 14,
   "metadata": {},
   "outputs": [
    {
     "data": {
      "text/plain": [
       "renda_familiar\n",
       "1 Salário Mínimo              43517\n",
       "2 Salários Mínimos            33444\n",
       "3 Salários Mínimos             9867\n",
       "1/2 Salário Mínimo             4825\n",
       "1/4 Salário Mínimo             3878\n",
       "4 Salários Mínimos             2864\n",
       "Mais de 4 Salários Mínimos     1603\n",
       "Manhã                             1\n",
       "Internet                          1\n",
       "Name: count, dtype: int64"
      ]
     },
     "execution_count": 14,
     "metadata": {},
     "output_type": "execute_result"
    }
   ],
   "source": [
    "df_raw[\"renda_familiar\"].value_counts()"
   ]
  },
  {
   "cell_type": "code",
   "execution_count": 15,
   "metadata": {},
   "outputs": [
    {
     "data": {
      "text/plain": [
       "meios_transporte\n",
       "Ônibus                                                                        26363\n",
       "[]                                                                            14081\n",
       "Carro, Ônibus                                                                 12088\n",
       "Carro, Metrô, Ônibus, Trem                                                     5172\n",
       "Carro                                                                          4515\n",
       "                                                                              ...  \n",
       "[\"\\u00d4nibus\", \"Carro\", \"Alternativo\", \"Trem\", \"Metr\\u00f4\"]                     1\n",
       "[\"\\u00d4nibus\", \"Caminh\\u00e3o\", \"Carro\\u00e7a\"]                                  1\n",
       "[\"Mar\\u00edtimo\", \"Metr\\u00f4\", \"Carro\"]                                          1\n",
       "[\"Carro\", \"Trem\", \"Bicicleta\", \"Alternativo\"]                                     1\n",
       "[\"Carro\", \"\\u00d4nibus\", \"Metr\\u00f4\", \"Bicicleta\", \"Trem\", \"Alternativo\"]        1\n",
       "Name: count, Length: 655, dtype: int64"
      ]
     },
     "execution_count": 15,
     "metadata": {},
     "output_type": "execute_result"
    }
   ],
   "source": [
    "df_raw[\"meios_transporte\"].value_counts()"
   ]
  },
  {
   "cell_type": "markdown",
   "metadata": {},
   "source": [
    "* Podemos visualizar alguns dados mal formatados e diversas informações \"repetidas\"\n",
    "* Faz total sentido, entretanto, que os pacientes tenham mais de um meio de transporte, por exemplo.\n",
    "* Para estes tipos de colunas, uma organização melhor seria quebrar esses relacionamentos n para n utilizando tabelas intermediárias, paciente_transporte, por exemplo, relacionada com uma tabela dimensão codificando um id para cada meio de transporte\n",
    "* Entretanto, as duplicatas de ids com informações inconsistentes e os nomes mal formatados poderiam atrapalhar essa organização e uma solução razoável para uma análise inicial foi utilizar one hot encoding para as categorias mais comuns"
   ]
  },
  {
   "cell_type": "code",
   "execution_count": 16,
   "metadata": {},
   "outputs": [
    {
     "data": {
      "text/plain": [
       "meios_comunicacao\n",
       "Internet, Televisão                                                            19378\n",
       "Internet, Rádio, Televisão                                                     14505\n",
       "[]                                                                             13682\n",
       "Televisão                                                                       9620\n",
       "Internet                                                                        8519\n",
       "                                                                               ...  \n",
       "[\"R\\u00e1dio\", \"Televis\\u00e3o\", \"Jornal\", \"Internet\", \"Revista\", \"Outros\"]        1\n",
       "[\"Revista\", \"Jornal\", \"Internet\"]                                                  1\n",
       "['Televisão', 'Jornal', 'Internet', 'Rádio']                                       1\n",
       "Internet, Jornal, Outros, Rádio, Revista                                           1\n",
       "[\"Jornal\", \"R\\u00e1dio\", \"Televis\\u00e3o\", \"Internet\"]                             1\n",
       "Name: count, Length: 325, dtype: int64"
      ]
     },
     "execution_count": 16,
     "metadata": {},
     "output_type": "execute_result"
    }
   ],
   "source": [
    "df_raw[\"meios_comunicacao\"].value_counts()"
   ]
  },
  {
   "cell_type": "code",
   "execution_count": 17,
   "metadata": {},
   "outputs": [
    {
     "data": {
      "text/plain": [
       "em_situacao_de_rua\n",
       "0        91910\n",
       "False     7974\n",
       "1          116\n",
       "Name: count, dtype: int64"
      ]
     },
     "execution_count": 17,
     "metadata": {},
     "output_type": "execute_result"
    }
   ],
   "source": [
    "df_raw[\"em_situacao_de_rua\"].value_counts()"
   ]
  },
  {
   "cell_type": "code",
   "execution_count": 18,
   "metadata": {},
   "outputs": [
    {
     "data": {
      "text/plain": [
       "identidade_genero\n",
       "Não                            69781\n",
       "Cis                            21033\n",
       "Mulher transexual               3792\n",
       "Homem transexual                1939\n",
       "Outro                           1343\n",
       "Heterossexual                   1025\n",
       "Sim                               50\n",
       "Homossexual (gay / lésbica)       44\n",
       "Travesti                          35\n",
       "Bissexual                          6\n",
       "Name: count, dtype: int64"
      ]
     },
     "execution_count": 18,
     "metadata": {},
     "output_type": "execute_result"
    }
   ],
   "source": [
    "df_raw[\"identidade_genero\"].value_counts()"
   ]
  },
  {
   "cell_type": "markdown",
   "metadata": {},
   "source": [
    "É possível observar uma confusão entre identidade de gênero e orientação sexual. Assim, as categorias \"Homem transexual\" e \"Mulher transexual\" foram tratadas para Transexual e as categorias \"Homossexual\" e \"Bissexual\" foram tratadas para não atrapalhar a análise\n",
    "* As categorias Sim e Não devem ser investigadas para entender seu significado"
   ]
  },
  {
   "cell_type": "code",
   "execution_count": 19,
   "metadata": {},
   "outputs": [
    {
     "data": {
      "text/plain": [
       "possui_plano_saude\n",
       "0        84459\n",
       "1         7628\n",
       "False     7442\n",
       "True       471\n",
       "Name: count, dtype: int64"
      ]
     },
     "execution_count": 19,
     "metadata": {},
     "output_type": "execute_result"
    }
   ],
   "source": [
    "df_raw[\"possui_plano_saude\"].value_counts()"
   ]
  },
  {
   "cell_type": "code",
   "execution_count": 20,
   "metadata": {},
   "outputs": [
    {
     "data": {
      "text/plain": [
       "familia_beneficiaria_auxilio_brasil\n",
       "0        77219\n",
       "1        11833\n",
       "False     9433\n",
       "True      1515\n",
       "Name: count, dtype: int64"
      ]
     },
     "execution_count": 20,
     "metadata": {},
     "output_type": "execute_result"
    }
   ],
   "source": [
    "df_raw[\"familia_beneficiaria_auxilio_brasil\"].value_counts()"
   ]
  },
  {
   "cell_type": "code",
   "execution_count": 27,
   "metadata": {},
   "outputs": [
    {
     "data": {
      "text/plain": [
       "doencas_condicoes\n",
       "[]                                                      46043\n",
       "Hipertensão                                             23423\n",
       "Diabetes, Hipertensão                                   11254\n",
       "[\"Outros\"]                                               4903\n",
       "Diabetes                                                 4134\n",
       "                                                        ...  \n",
       "['Tabagismo', 'Usuário de Drogas Ilícitas']                 1\n",
       "['Outros', 'Transtorno Mental']                             1\n",
       "['Def. Visual', 'Diabetes', 'Hipertensão', 'Outros']        1\n",
       "['Asma', 'Gestante', 'Outros']                              1\n",
       "['Def. Mental', 'Outros']                                   1\n",
       "Name: count, Length: 277, dtype: int64"
      ]
     },
     "execution_count": 27,
     "metadata": {},
     "output_type": "execute_result"
    }
   ],
   "source": [
    "df_raw[\"doencas_condicoes\"].value_counts()"
   ]
  }
 ],
 "metadata": {
  "kernelspec": {
   "display_name": "venv",
   "language": "python",
   "name": "python3"
  },
  "language_info": {
   "codemirror_mode": {
    "name": "ipython",
    "version": 3
   },
   "file_extension": ".py",
   "mimetype": "text/x-python",
   "name": "python",
   "nbconvert_exporter": "python",
   "pygments_lexer": "ipython3",
   "version": "3.13.0"
  }
 },
 "nbformat": 4,
 "nbformat_minor": 2
}
